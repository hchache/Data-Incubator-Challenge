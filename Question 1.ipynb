{
 "cells": [
  {
   "cell_type": "code",
   "execution_count": 1,
   "metadata": {},
   "outputs": [],
   "source": [
    "import math as m\n",
    "import random as r\n",
    "import numpy as np"
   ]
  },
  {
   "cell_type": "code",
   "execution_count": 2,
   "metadata": {},
   "outputs": [],
   "source": [
    "# Generates random number 0 or 1 based on current x,y position\n",
    "def generate_rand(arr,m,n):\n",
    "    if arr.count(0) == m:\n",
    "        return 1\n",
    "    elif arr.count(1) == n:\n",
    "        return 0\n",
    "    else:\n",
    "        return r.randint(0,1)"
   ]
  },
  {
   "cell_type": "code",
   "execution_count": 3,
   "metadata": {},
   "outputs": [],
   "source": [
    "# Calculates deviation based on given formula\n",
    "def cal_deviate(x1,y1,m,n):\n",
    "    return max((x1/m-y1/n),(y1/n-x1/m))"
   ]
  },
  {
   "cell_type": "code",
   "execution_count": 4,
   "metadata": {},
   "outputs": [],
   "source": [
    "# https://www.python.org/doc/essays/graphs/\n",
    "def get_paths(graph, start, end, path=[]):\n",
    "    path = path + [start]\n",
    "    if start == end:\n",
    "        return [path]\n",
    "    if start not in graph:\n",
    "        return []\n",
    "    paths = []\n",
    "    for node in graph[start]:\n",
    "        if node not in path:\n",
    "            newpaths = get_paths(graph, node, end, path)            \n",
    "            for newpath in newpaths:\n",
    "                paths.append(newpath)\n",
    "    return paths"
   ]
  },
  {
   "cell_type": "code",
   "execution_count": 5,
   "metadata": {},
   "outputs": [],
   "source": [
    "def develop_graph(n,m):\n",
    "    d = {}\n",
    "    deviation = {}\n",
    "    for x in range(n+1):\n",
    "        for y in range(m+1):\n",
    "            index = str(x)+str(y)\n",
    "            deviation[index] = cal_deviate(x,y,m,n)\n",
    "            if index == (str(n)+str(m)):\n",
    "                break\n",
    "            if y != m or x != n:\n",
    "                d[index] = [str(x+1)+str(y),str(x)+str(y+1)]\n",
    "            elif y == m:\n",
    "                d[index] = [str(x+1)+str(y)]\n",
    "            elif x == n:\n",
    "                d[index] = [str(x)+str(y+1)]\n",
    "    return d, deviation"
   ]
  },
  {
   "cell_type": "code",
   "execution_count": 6,
   "metadata": {},
   "outputs": [],
   "source": [
    "# This approach is similar to previous one but in this approach all paths are not derived.\n",
    "# Instead it takes random direction at every single point\n",
    "def random_traverse_approach(n,m):\n",
    "    n = int(n)\n",
    "    m = int(m)\n",
    "    x,y,max_N,max_E = 0,0,m,n \n",
    "    D,B,A = [0.0],[[0,0]],[]\n",
    "    if(x==n and y==m): return\n",
    "    for i in range(m+n):\n",
    "        b = generate_rand(A,m,n)\n",
    "        A.append(b)\n",
    "        if b == 0 and max_N!=0:\n",
    "            y = y + 1\n",
    "            max_N = max_N - 1\n",
    "            # print(\"max_N\",max_N)\n",
    "        if b == 1 and max_E!=0:\n",
    "            x = x + 1\n",
    "            max_E = max_E - 1\n",
    "            # print(\"max_E\",max_E)\n",
    "        D.append(cal_deviate(x,y,m,n))\n",
    "        # B gives x and y co-ordinates\n",
    "        B.append([x,y])\n",
    "    return D"
   ]
  },
  {
   "cell_type": "code",
   "execution_count": 7,
   "metadata": {},
   "outputs": [],
   "source": [
    "# This approach is similar to random_traverse_approach but in this approach ant takes NENENENE path.\n",
    "# Instead of taking random direction at every single point, it takes NENENE approach\n",
    "def equi_traverse_approach(n,m):\n",
    "    n = int(n)\n",
    "    m = int(m)\n",
    "    x,y,max_N,max_E = 0,0,m,n \n",
    "    D,B,A = [0.0],[[0,0]],[]\n",
    "    b = 0\n",
    "    if(x==n and y==m): return\n",
    "    for i in range(m+n):\n",
    "#         b = generate_rand(A,m,n)\n",
    "        A.append(b)\n",
    "        if max_N == 0:\n",
    "            b = 1\n",
    "        elif max_E == 0:\n",
    "            b = 0\n",
    "            \n",
    "        if b == 0 and max_N!=0:\n",
    "            y = y + 1\n",
    "            max_N = max_N - 1\n",
    "            # print(\"max_N\",max_N)\n",
    "        elif b == 1 and max_E!=0:\n",
    "            x = x + 1\n",
    "            max_E = max_E - 1\n",
    "            # print(\"max_E\",max_E)\n",
    "        D.append(cal_deviate(x,y,m,n))\n",
    "        b = abs(b-1)\n",
    "        # B gives x and y co-ordinates\n",
    "        B.append([x,y])\n",
    "#         print(B)\n",
    "    return D"
   ]
  },
  {
   "cell_type": "code",
   "execution_count": 8,
   "metadata": {},
   "outputs": [],
   "source": [
    "# This approach return Deviation list D of random paths from all path list (instead of deviation of a path at x,y).\n",
    "# Size of D is m+n+1\n",
    "def all_path_random_approach(n, m):\n",
    "    graph, deviation = develop_graph(n, m)\n",
    "    D = []\n",
    "    start = '00'\n",
    "    end = str(n)+str(m)\n",
    "    paths = get_paths(graph, start, end)\n",
    "    i = r.randint(0, len(paths)-1)\n",
    "    random_path = paths[i]\n",
    "    for p in random_path:\n",
    "        D.append(float(deviation[p]))\n",
    "    return D"
   ]
  },
  {
   "cell_type": "code",
   "execution_count": 9,
   "metadata": {},
   "outputs": [],
   "source": [
    "# This approach return Deviation list D as mean of all paths (instead of deviation of a path at x,y).\n",
    "# Here D will have (m+n)!/m!n! entries instead of m+n+1 \n",
    "def all_path_approach(n, m):\n",
    "    graph, deviation = develop_graph(n, m)\n",
    "    D = []\n",
    "    start = '00'\n",
    "    end = str(n)+str(m)\n",
    "    paths = get_paths(graph, start, end)\n",
    "    for path in paths:\n",
    "        t = []\n",
    "        for p in path:\n",
    "            t.append(float(deviation[p]))\n",
    "        D.append(np.mean(t))\n",
    "    return D"
   ]
  },
  {
   "cell_type": "code",
   "execution_count": 10,
   "metadata": {},
   "outputs": [],
   "source": [
    "# Due to multiple functions and different approach,\n",
    "# defined each question as a function to improve readability\n",
    "\n",
    "# What is the mean of D when m=11 and n=7?\n",
    "def q1(f):\n",
    "    m,n = 11,7\n",
    "    D = f(n,m)\n",
    "    return np.mean(D)"
   ]
  },
  {
   "cell_type": "code",
   "execution_count": 11,
   "metadata": {},
   "outputs": [],
   "source": [
    "# What is the standard deviation of D when m=11 and n=7?\n",
    "def q2(f):\n",
    "    m,n = 11,7\n",
    "    D = f(n,m)\n",
    "    return np.std(D)"
   ]
  },
  {
   "cell_type": "code",
   "execution_count": 12,
   "metadata": {},
   "outputs": [],
   "source": [
    "# What is the mean of D when m=23 and n=31?\n",
    "def q3(f):\n",
    "    m,n = 23,31\n",
    "    D = f(n,m)\n",
    "    return np.mean(D)"
   ]
  },
  {
   "cell_type": "code",
   "execution_count": 13,
   "metadata": {},
   "outputs": [],
   "source": [
    "# What is the standard deviation of D when m=23 and n=31?\n",
    "def q4(f):\n",
    "    m,n = 23,31\n",
    "    D = f(n,m)\n",
    "    return np.std(D)"
   ]
  },
  {
   "cell_type": "code",
   "execution_count": 14,
   "metadata": {},
   "outputs": [],
   "source": [
    "# What is the conditional probability that D is greater than 0.6 given that it is greater than 0.2 when m=11 and n=7?\n",
    "def q5(f):\n",
    "    m,n = 11,7\n",
    "    D = f(n,m)\n",
    "    ans = (sum(i > 0.6 for i in D)/len(D))/(sum(i > 0.2 for i in D)/len(D))\n",
    "    return ans"
   ]
  },
  {
   "cell_type": "code",
   "execution_count": 15,
   "metadata": {},
   "outputs": [],
   "source": [
    "# What is the conditional probability that D is greater than 0.6 given that it is greater than 0.2 when m=23 and n=31?\n",
    "def q6(f):\n",
    "    m,n = 23,31\n",
    "    D = f(n,m)\n",
    "    ans = (sum(i > 0.6 for i in D)/len(D))/(sum(i > 0.2 for i in D)/len(D))\n",
    "    return ans"
   ]
  },
  {
   "cell_type": "code",
   "execution_count": 16,
   "metadata": {},
   "outputs": [
    {
     "name": "stdout",
     "output_type": "stream",
     "text": [
      "----------random_traverse_approach-----------\n",
      "Answer 1:  0.3971291866\n",
      "Answer 2:  0.3017274304\n",
      "Answer 3:  0.1868927706\n",
      "Answer 4:  0.1516152488\n",
      "Answer 5:  0.375\n",
      "Answer 6:  0.05555555556\n",
      "----------equi_traverse_approach-----------\n",
      "Answer 1:  0.3383458647\n",
      "Answer 2:  0.23874376\n",
      "Answer 3:  0.1627183476\n",
      "Answer 4:  0.1435226283\n",
      "Answer 5:  0.2307692308\n",
      "Answer 6:  0.0625\n",
      "----------all_path_random_approach-----------\n",
      "Answer 1:  0.4613807245\n",
      "Answer 2:  0.3289079079\n",
      "Answer 5:  0.3529411765\n",
      "-------------all_path_approach---------------\n",
      "Answer 1:  0.4825800704\n",
      "Answer 2:  0.1205792581\n",
      "Answer 5:  0.1702488688\n",
      "------------------END------------------------\n"
     ]
    }
   ],
   "source": [
    "# Main function\n",
    "def Main():\n",
    "   # User input code\n",
    "   # m = int(input(\"m?\"))\n",
    "   # n = int(input(\"n?\"))\n",
    "    print(\"----------random_traverse_approach-----------\")\n",
    "    print(\"Answer 1: \",format(q1(random_traverse_approach), '.10g'))\n",
    "    print(\"Answer 2: \",format(q2(random_traverse_approach), '.10g'))\n",
    "    print(\"Answer 3: \",format(q3(random_traverse_approach), '.10g'))\n",
    "    print(\"Answer 4: \",format(q4(random_traverse_approach), '.10g'))\n",
    "    print(\"Answer 5: \",format(q5(random_traverse_approach), '.10g'))\n",
    "    print(\"Answer 6: \",format(q6(random_traverse_approach), '.10g'))\n",
    "    print(\"----------equi_traverse_approach-----------\")\n",
    "    print(\"Answer 1: \",format(q1(equi_traverse_approach), '.10g'))\n",
    "    print(\"Answer 2: \",format(q2(equi_traverse_approach), '.10g'))\n",
    "    print(\"Answer 3: \",format(q3(equi_traverse_approach), '.10g'))\n",
    "    print(\"Answer 4: \",format(q4(equi_traverse_approach), '.10g'))\n",
    "    print(\"Answer 5: \",format(q5(equi_traverse_approach), '.10g'))\n",
    "    print(\"Answer 6: \",format(q6(equi_traverse_approach), '.10g'))\n",
    "    print(\"----------all_path_random_approach-----------\")\n",
    "    # Calculating all paths for 31 x 23 is not a good idea! Hence commented Question 3,4, and 6\n",
    "    print(\"Answer 1: \",format(q1(all_path_random_approach), '.10g'))\n",
    "    print(\"Answer 2: \",format(q2(all_path_random_approach), '.10g'))\n",
    "#     print(\"Answer 3: \",q3(all_path_random_approach))\n",
    "#     print(\"Answer 4: \",q4(all_path_random_approach))\n",
    "    print(\"Answer 5: \",format(q5(all_path_random_approach), '.10g'))\n",
    "#     print(\"Answer 6: \",q6(all_path_random_approach))\n",
    "    print(\"-------------all_path_approach---------------\")\n",
    "    print(\"Answer 1: \",format(q1(all_path_approach), '.10g'))\n",
    "    print(\"Answer 2: \",format(q2(all_path_approach), '.10g'))\n",
    "#     print(\"Answer 3: \",q3(all_path_approach))\n",
    "#     print(\"Answer 4: \",q4(all_path_approach))\n",
    "    print(\"Answer 5: \",format(q5(all_path_approach), '.10g'))\n",
    "#     print(\"Answer 6: \",q6(all_path_approach))\n",
    "    print(\"------------------END------------------------\")\n",
    "if __name__ == '__main__':\n",
    "    Main() "
   ]
  },
  {
   "cell_type": "code",
   "execution_count": null,
   "metadata": {},
   "outputs": [],
   "source": []
  }
 ],
 "metadata": {
  "kernelspec": {
   "display_name": "Python 3",
   "language": "python",
   "name": "python3"
  },
  "language_info": {
   "codemirror_mode": {
    "name": "ipython",
    "version": 3
   },
   "file_extension": ".py",
   "mimetype": "text/x-python",
   "name": "python",
   "nbconvert_exporter": "python",
   "pygments_lexer": "ipython3",
   "version": "3.6.4"
  }
 },
 "nbformat": 4,
 "nbformat_minor": 2
}
