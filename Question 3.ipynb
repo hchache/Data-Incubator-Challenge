{
 "cells": [
  {
   "cell_type": "code",
   "execution_count": 124,
   "metadata": {},
   "outputs": [],
   "source": [
    "import pandas as pd\n",
    "import numpy as np\n",
    "import math as m\n",
    "from pandas.io.json import json_normalize"
   ]
  },
  {
   "cell_type": "code",
   "execution_count": 309,
   "metadata": {},
   "outputs": [
    {
     "name": "stdout",
     "output_type": "stream",
     "text": [
      "{'directions': ['1. Place the stock, lentils, celery, carrot, thyme, and salt in a medium saucepan and bring to a boil. Reduce heat to low and simmer until the lentils are tender, about 30 minutes, depending on the lentils. (If they begin to dry out, add water as needed.) Remove and discard the thyme. Drain and transfer the mixture to a bowl; let cool.', '2. Fold in the tomato, apple, lemon juice, and olive oil. Season with the pepper.', '3. To assemble a wrap, place 1 lavash sheet on a clean work surface. Spread some of the lentil mixture on the end nearest you, leaving a 1-inch border. Top with several slices of turkey, then some of the lettuce. Roll up the lavash, slice crosswise, and serve. If using tortillas, spread the lentils in the center, top with the turkey and lettuce, and fold up the bottom, left side, and right side before rolling away from you.'], 'fat': 7.0, 'date': '2006-09-01T04:00:00.000Z', 'categories': ['Sandwich', 'Bean', 'Fruit', 'Tomato', 'turkey', 'Vegetable', 'Kid-Friendly', 'Apple', 'Lentil', 'Lettuce', 'Cookie'], 'calories': 426.0, 'desc': None, 'protein': 30.0, 'rating': 2.5, 'title': 'Lentil, Apple, and Turkey Wrap ', 'ingredients': ['4 cups low-sodium vegetable or chicken stock', '1 cup dried brown lentils', '1/2 cup dried French green lentils', '2 stalks celery, chopped', '1 large carrot, peeled and chopped', '1 sprig fresh thyme', '1 teaspoon kosher salt', '1 medium tomato, cored, seeded, and diced', '1 small Fuji apple, cored and diced', '1 tablespoon freshly squeezed lemon juice', '2 teaspoons extra-virgin olive oil', 'Freshly ground black pepper to taste', '3 sheets whole-wheat lavash, cut in half crosswise, or 6 (12-inch) flour tortillas', '3/4 pound turkey breast, thinly sliced', '1/2 head Bibb lettuce'], 'sodium': 559.0}\n"
     ]
    }
   ],
   "source": [
    "# Kaggle dataset\n",
    "import json\n",
    "with open('full_format_recipes.json') as json_data:\n",
    "    d = json.load(json_data)"
   ]
  },
  {
   "cell_type": "code",
   "execution_count": 181,
   "metadata": {
    "scrolled": false
   },
   "outputs": [
    {
     "data": {
      "text/plain": [
       "calories                                                     439\n",
       "categories     [Egg, Side, Low Cal, Dinner, Shrimp, Hot Peppe...\n",
       "date                                    2009-06-05T04:00:00.000Z\n",
       "desc           Haemul pa jeon—savory pancakes that are crispy...\n",
       "directions     [Whisk eggs in medium bowl to blend. Whisk in ...\n",
       "fat                                                           20\n",
       "ingredients    [2 large eggs, 1 1/2 cups cold water, 1/2 teas...\n",
       "protein                                                       20\n",
       "rating                                                      3.75\n",
       "sodium                                                      1763\n",
       "title                           Shrimp and Green Onion Pancakes \n",
       "Name: 140, dtype: object"
      ]
     },
     "execution_count": 181,
     "metadata": {},
     "output_type": "execute_result"
    }
   ],
   "source": [
    "df = pd.DataFrame.from_dict(json_normalize(d), orient='columns')\n",
    "df.iloc[140]"
   ]
  },
  {
   "cell_type": "code",
   "execution_count": 242,
   "metadata": {},
   "outputs": [],
   "source": [
    "# This was only for pancake recipes. Same code can be used for all other recipes.\n",
    "title_col = df['title']\n",
    "pan_cake = []\n",
    "pc_index = []\n",
    "for i,t in enumerate(title_col):\n",
    "    if 'Pancake' in str(t):\n",
    "        pc_index.append(i)\n",
    "\n",
    "pc_index = df.iloc[pc_index]\n",
    "a = pc_index['ingredients']\n",
    "b = []\n",
    "for row in a:\n",
    "    if len(row):\n",
    "        for i in range(len(row)):\n",
    "            b.append(row[i].split(\",\"))"
   ]
  },
  {
   "cell_type": "code",
   "execution_count": 275,
   "metadata": {},
   "outputs": [
    {
     "name": "stdout",
     "output_type": "stream",
     "text": [
      "Counter({'Salt': 121, 'Butter': 88, 'Egg': 77, 'Flour': 76, 'Baking': 62, 'Oil': 60, 'Milk': 58, 'Sugar': 47, 'Vegetable oil': 34, 'Baking powder': 32, 'Maple syrup': 30, 'Syrup': 30, 'Soda': 26, 'Pepper': 25, 'Cream': 24, 'Buttermilk': 22, 'Onion': 21, 'Potato': 17, 'Cinnamon': 17, 'Black pepper': 16, 'Lemon': 16, 'Nut': 14, 'Vanilla extract': 12, 'Orange': 12, 'Olive': 11, 'Seeds': 10, 'Apple': 10, 'Olive oil': 10, 'Chives': 10, 'Lemon juice': 9, 'Eel': 9, 'Peel': 9, 'Mince': 8, 'Cheese': 8, 'Banana': 8, 'Zest': 8, 'Almond': 7, 'Shin': 6, 'Cake': 6, 'Brown sugar': 6, 'Mustard': 6, 'Sesame oil': 5, 'Coriander': 5, 'Bacon': 5, 'Coconut': 5, 'Rice': 5, 'Fat': 5, 'Oats': 5, 'Salmon': 5, 'Smoked salmon': 5, 'Vinegar': 5, 'Gin': 5, 'Cayenne pepper': 4, 'Ale': 4, 'Cumin': 4, 'Buckwheat': 4, 'Buckwheat flour': 4, 'Honey': 4, 'Sweet potato': 4, 'Pecan': 4, 'Garlic': 4, 'Parsley': 4, 'Dill': 4, 'Caviar': 4, 'Ginger': 4, 'Soy sauce': 3, 'Turmeric': 3, 'Rum': 3, 'Egg white': 3, 'Sea salt': 3, 'Cherry': 3, 'Bran': 3, 'Kirsch': 3, 'Corn oil': 3, 'Nutmeg': 3, 'Cottage cheese': 3, 'Egg yolk': 3, 'Cloves': 3, 'Walnut': 3, 'Hake': 3, 'Raisins': 3, 'Matzo': 3, 'Dijon mustard': 3, 'Carrot': 2, 'Bread': 2, 'Brandy': 2, 'Cherry brandy': 2, 'Almond extract': 2, 'Grain': 2, 'Berry': 2, 'Salad': 2, 'Molasses': 2, 'Red onion': 2, 'Coconut milk': 2, 'Rice vinegar': 2, 'Sesame seeds': 2, 'Rice flour': 2, 'Orange juice': 2, 'Shallot': 2, 'Chickpea': 2, 'Mustard seeds': 2, 'Ground ginger': 2, 'Peas': 2, 'Fresh coriander': 2, 'Chips': 2, 'Chocolate': 2, 'Cola': 2, 'Mushroom': 1, 'Grapes': 1, 'Grapeseed oil': 1, 'Rapeseed oil': 1, 'Preserves': 1, 'Liver': 1, 'Ling': 1, 'Oatmeal': 1, 'Cardamom': 1, 'Peach': 1, 'Spinach': 1, 'Tarragon': 1, 'Crumble': 1, 'Feta': 1, 'Pear': 1, 'Coffee': 1, 'Allspice': 1, 'Fruit': 1, 'Fruit salad': 1, 'Pistachio': 1, 'Millet': 1, 'Margarine': 1, 'Herbs': 1, 'Date': 1, 'Ground almonds': 1, 'Brown rice': 1, 'Chickpea flour': 1, 'Capers': 1, 'Pancakes': 1, 'Fudge': 1, 'Balsamic vinegar': 1, 'Sherry': 1, 'Sherry vinegar': 1, 'Macadamia': 1, 'Blueberry': 1, 'Lard': 1, 'Jus': 1, 'Coconut oil': 1, 'Sage': 1, 'Sausage': 1, 'Tomato': 1, 'Beans': 1, 'Ouzo': 1, 'Curry': 1, 'Lime': 1, 'Celeriac': 1, 'Celery': 1, 'Marjoram': 1, 'Horseradish': 1, 'Radish': 1, 'Basil': 1, 'Cabbage': 1, 'Red cabbage': 1, 'Pickle': 1, 'Cider': 1, 'Duck': 1, 'Leek': 1, 'Gouda': 1, 'Rosemary': 1, 'Spelt': 1, 'Spelt flour': 1, 'Poppy seeds': 1, 'Sunflower seed': 1, 'Ricotta': 1, 'Peanut oil': 1, 'Noodles': 1, 'Fennel': 1, 'Fennel seeds': 1, 'Yam': 1, 'Yeast': 1, 'Chestnut': 1, 'Pastry': 1, 'Apricot': 1, 'Dried apricots': 1, 'Cream cheese': 1, 'Pineapple': 1})\n"
     ]
    }
   ],
   "source": [
    "pancake_words= []\n",
    "ingred.remove(\"Tea\")\n",
    "for text in b:\n",
    "#     print(text[0])\n",
    "    for word in ingred:\n",
    "        if word.lower() in text[0].lower():\n",
    "            pancake_words.append(word)\n",
    "# print(pancake_words)\n",
    "from collections import Counter\n",
    "counts = Counter(pancake_words)\n",
    "print(counts)"
   ]
  },
  {
   "cell_type": "code",
   "execution_count": 256,
   "metadata": {},
   "outputs": [],
   "source": [
    "# This code generates list of possible ingredients from bbc.com\n",
    "# This code was rewritten on existing code\n",
    "import requests\n",
    "from bs4 import BeautifulSoup\n",
    "from user_agent import generate_user_agent\n",
    "import string\n",
    "ingred = []\n",
    "def get_ingredients(soup):\n",
    "    lists = soup.findAll('li',{'class':'resource food'})\n",
    "#     print(lists)\n",
    "    array = []\n",
    "    for li in lists:\n",
    "        ingred.append(li.a.contents[2].strip())\n",
    "\n",
    "a_to_z = string.ascii_lowercase[:26]\n",
    "for a in a_to_z:\n",
    "    url = 'https://www.bbc.com/food/ingredients/by/letter/' + a\n",
    "    req = requests.get(url, headers={'User-Agent': generate_user_agent(device_type=\"desktop\", os=('mac', 'linux'))})\n",
    "    page = req.text\n",
    "    soup = BeautifulSoup(page, 'html.parser')\n",
    "    get_ingredients(soup)"
   ]
  },
  {
   "cell_type": "code",
   "execution_count": 307,
   "metadata": {},
   "outputs": [],
   "source": [
    "# Generate CSV file, which will be used in web application\n",
    "df = pd.DataFrame.from_dict(counts, orient='index').to_csv('pancake.csv', index=True, header=[\"value\"],index_label=[\"id\"])"
   ]
  },
  {
   "cell_type": "code",
   "execution_count": null,
   "metadata": {},
   "outputs": [],
   "source": []
  }
 ],
 "metadata": {
  "kernelspec": {
   "display_name": "Python 3",
   "language": "python",
   "name": "python3"
  },
  "language_info": {
   "codemirror_mode": {
    "name": "ipython",
    "version": 3
   },
   "file_extension": ".py",
   "mimetype": "text/x-python",
   "name": "python",
   "nbconvert_exporter": "python",
   "pygments_lexer": "ipython3",
   "version": "3.6.4"
  }
 },
 "nbformat": 4,
 "nbformat_minor": 2
}
