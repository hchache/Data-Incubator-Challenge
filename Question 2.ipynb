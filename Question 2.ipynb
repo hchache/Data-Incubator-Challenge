{
 "cells": [
  {
   "cell_type": "code",
   "execution_count": 1,
   "metadata": {},
   "outputs": [],
   "source": [
    "import pandas as pd\n",
    "import numpy as np\n",
    "import matplotlib.pyplot as plt\n",
    "from scipy import interpolate\n",
    "from scipy.stats import chisquare\n",
    "from scipy import stats\n",
    "from sklearn import linear_model\n",
    "pd.options.display.float_format = '{:,.10f}'.format"
   ]
  },
  {
   "cell_type": "code",
   "execution_count": 2,
   "metadata": {},
   "outputs": [],
   "source": [
    "# Read input CSV file - Montana\n",
    "df_mt = pd.read_csv(\"MT-clean.csv\", low_memory=False)\n",
    "# df_mt.head()"
   ]
  },
  {
   "cell_type": "code",
   "execution_count": 3,
   "metadata": {},
   "outputs": [],
   "source": [
    "# Read input CSV file - Vermont\n",
    "df_vt = pd.read_csv(\"VT-clean.csv\", low_memory=False)\n",
    "# df_vt.head()"
   ]
  },
  {
   "cell_type": "markdown",
   "metadata": {},
   "source": [
    "#### What proportion of traffic stops in Montana involved male drivers? In other words, divide the number of traffic stops involving male drivers by the total number of stops."
   ]
  },
  {
   "cell_type": "code",
   "execution_count": 4,
   "metadata": {},
   "outputs": [
    {
     "name": "stdout",
     "output_type": "stream",
     "text": [
      "proportion of traffic stops in Montana involved male drivers:  0.6750723334\n"
     ]
    }
   ],
   "source": [
    "male_prop, female_prop = df_mt.driver_gender.value_counts()/df_mt.driver_gender.count()\n",
    "print(\"proportion of traffic stops in Montana involved male drivers: \",format(male_prop, '.10g'))"
   ]
  },
  {
   "cell_type": "markdown",
   "metadata": {},
   "source": [
    "#### How many more times likely are you to be arrested in Montana during a traffic stop if you have out of state plates?"
   ]
  },
  {
   "cell_type": "code",
   "execution_count": 5,
   "metadata": {},
   "outputs": [
    {
     "name": "stdout",
     "output_type": "stream",
     "text": [
      "if you have out of state plates, you are  0.3301690398  times more likely to be arrested in Montana during a traffic stop\n"
     ]
    }
   ],
   "source": [
    "out_of_state_false, out_of_state_true = df_mt.out_of_state.value_counts()/df_mt.out_of_state.count()\n",
    "print(\"if you have out of state plates, you are \", format(out_of_state_true/out_of_state_false, '.10g'), \n",
    "      \" times more likely to be arrested in Montana during a traffic stop\")"
   ]
  },
  {
   "cell_type": "code",
   "execution_count": 6,
   "metadata": {},
   "outputs": [],
   "source": [
    "m = df_mt.is_arrested.value_counts()/df_mt.is_arrested.count()"
   ]
  },
  {
   "cell_type": "code",
   "execution_count": 7,
   "metadata": {},
   "outputs": [],
   "source": [
    "v = df_vt.is_arrested.value_counts()/df_vt.is_arrested.count()"
   ]
  },
  {
   "cell_type": "markdown",
   "metadata": {},
   "source": [
    "#### Perform a (χ2) test to determine whether the proportions of arrests in these two populations are equal. What is the value of the test statistic?\n",
    "\n",
    "|  | Arrested  | Not Arrested |\n",
    "|------|------|------|\n",
    "|   MT  | 17195|   807923  |\n",
    "|   VT  | 3331|   279954  |\n"
   ]
  },
  {
   "cell_type": "code",
   "execution_count": 8,
   "metadata": {},
   "outputs": [
    {
     "name": "stdout",
     "output_type": "stream",
     "text": [
      "0.007096595562\n"
     ]
    }
   ],
   "source": [
    "chi_squared_stat = (((m-v)**2)/v).sum()\n",
    "print(format(chi_squared_stat, '.10g'))"
   ]
  },
  {
   "cell_type": "code",
   "execution_count": 9,
   "metadata": {},
   "outputs": [],
   "source": [
    "observed = np.array(m)\n",
    "expected = np.array(v)\n",
    "chisquare_value, pvalue = chisquare(observed, expected)"
   ]
  },
  {
   "cell_type": "code",
   "execution_count": 10,
   "metadata": {},
   "outputs": [
    {
     "name": "stdout",
     "output_type": "stream",
     "text": [
      "value of the test statistic:  0.007096595562\n"
     ]
    }
   ],
   "source": [
    "print(\"value of the test statistic: \",format(chisquare_value, '.10g'))"
   ]
  },
  {
   "cell_type": "markdown",
   "metadata": {},
   "source": [
    "#### What proportion of traffic stops in Montana resulted in speeding violations? In other words, find the number of violations that include \"Speeding\" in the violation description and divide that number by the total number of stops (or rows in the Montana dataset)."
   ]
  },
  {
   "cell_type": "code",
   "execution_count": 11,
   "metadata": {},
   "outputs": [
    {
     "name": "stdout",
     "output_type": "stream",
     "text": [
      "proportion of traffic stops in Montana resulted in speeding violations:  0.4084383276\n"
     ]
    }
   ],
   "source": [
    "print(\"proportion of traffic stops in Montana resulted in speeding violations: \",\n",
    "      format(df_mt.violation.value_counts()['Speeding']/df_mt.violation.count(), '.10g'))"
   ]
  },
  {
   "cell_type": "markdown",
   "metadata": {},
   "source": [
    "#### How much more likely does a traffic stop in Montana result in a DUI than a traffic stop in Vermont? To compute the proportion of traffic stops that result in a DUI, divide the number of stops with \"DUI\" in the violation description by the total number of stops."
   ]
  },
  {
   "cell_type": "code",
   "execution_count": 12,
   "metadata": {},
   "outputs": [],
   "source": [
    "m_DUI = (df_mt['violation'].str.contains(\"DUI\") == True).sum()/df_mt.violation.count()"
   ]
  },
  {
   "cell_type": "code",
   "execution_count": 13,
   "metadata": {},
   "outputs": [],
   "source": [
    "v_DUI = (df_vt['violation'].str.contains(\"DUI\") == True).sum()/df_vt.violation.count()"
   ]
  },
  {
   "cell_type": "code",
   "execution_count": 14,
   "metadata": {},
   "outputs": [
    {
     "name": "stdout",
     "output_type": "stream",
     "text": [
      "a traffic stop in Montana result in a DUI than a traffic stop in Vermont:  4.054943765\n"
     ]
    }
   ],
   "source": [
    "print(\"a traffic stop in Montana result in a DUI than a traffic stop in Vermont: \",format(m_DUI/v_DUI, '.10g'))"
   ]
  },
  {
   "cell_type": "markdown",
   "metadata": {},
   "source": [
    "#### What is the extrapolated, average manufacture year of vehicles involved in traffic stops in Montana in 2020? To answer this question, calculate the average vehicle manufacture year for each year's traffic stops. Extrapolate using a linear regression."
   ]
  },
  {
   "cell_type": "code",
   "execution_count": 15,
   "metadata": {},
   "outputs": [],
   "source": [
    "# Assign previous value to NaN in column stop_date\n",
    "df_mt_ext = df_mt\n",
    "stop_date_col= df_mt_ext['stop_date']\n",
    "is_stop_date_null = stop_date_col.isnull()\n",
    "stop_date_null_true = stop_date_col[is_stop_date_null]\n",
    "a = int(stop_date_null_true.index[0])\n",
    "df_mt_ext['stop_date'].fillna(df_mt_ext['stop_date'][a-1], inplace = True)"
   ]
  },
  {
   "cell_type": "code",
   "execution_count": 16,
   "metadata": {},
   "outputs": [],
   "source": [
    "df_mt_ext[\"stop_date\"] = pd.to_datetime(df_mt_ext[\"stop_date\"])\n",
    "df_mt_ext[\"stop_year\"] = df_mt_ext['stop_date'].dt.year"
   ]
  },
  {
   "cell_type": "code",
   "execution_count": 17,
   "metadata": {},
   "outputs": [],
   "source": [
    "# Remove all rows which contains vehicle year as UNK, NON and NaN\n",
    "df_mt_ext['vehicle_year'].fillna('0', inplace = True)\n",
    "a = df_mt_ext['vehicle_year'].isin(['UNK','NON-','0'])\n",
    "b = df_mt_ext[a]\n",
    "c = b.index\n",
    "df_mt_ext = df_mt_ext.drop(c)"
   ]
  },
  {
   "cell_type": "code",
   "execution_count": 18,
   "metadata": {},
   "outputs": [],
   "source": [
    "# Groupby stopyear and calculate mean vehicle year\n",
    "df_mt_ext['vehicle_year'] = df_mt_ext['vehicle_year'].astype(int)\n",
    "ab = df_mt_ext.groupby('stop_year')['vehicle_year'].mean().reset_index()"
   ]
  },
  {
   "cell_type": "code",
   "execution_count": 19,
   "metadata": {},
   "outputs": [
    {
     "name": "stdout",
     "output_type": "stream",
     "text": [
      "Using interpolate - the average vehicle manufacture year:  2008.173992\n"
     ]
    }
   ],
   "source": [
    "# Using interpolate\n",
    "x = ab['stop_year']\n",
    "y = ab['vehicle_year']\n",
    "f = interpolate.interp1d(x, y,kind='linear', fill_value='extrapolate', bounds_error=False)\n",
    "xnew = int(2020)\n",
    "# Answer\n",
    "y_predicted_interpolate = float(f(xnew))\n",
    "print(\"Using interpolate - the average vehicle manufacture year: \",format(y_predicted_interpolate, '.10g'))"
   ]
  },
  {
   "cell_type": "code",
   "execution_count": 20,
   "metadata": {},
   "outputs": [
    {
     "name": "stdout",
     "output_type": "stream",
     "text": [
      "Using Stats - the average vehicle manufacture year:  2008.842629\n",
      "the p-value of this linear regression:  5.631861263e-08\n"
     ]
    }
   ],
   "source": [
    "# Using stats.linregress\n",
    "slope, intercept, r_value, p_value, std_err = stats.linregress(x,y)\n",
    "# Answer\n",
    "y_predicted_stats = 2020*slope + intercept\n",
    "print(\"Using Stats - the average vehicle manufacture year: \",format(y_predicted_stats, '.10g'))\n",
    "# Answer tot next question\n",
    "print(\"the p-value of this linear regression: \",format(p_value, '.10g'))"
   ]
  },
  {
   "cell_type": "code",
   "execution_count": 21,
   "metadata": {},
   "outputs": [
    {
     "name": "stdout",
     "output_type": "stream",
     "text": [
      "Using sklearn linear model - the average vehicle manufacture year:  [[2008.84262854]]\n"
     ]
    },
    {
     "name": "stderr",
     "output_type": "stream",
     "text": [
      "/Library/Frameworks/Python.framework/Versions/3.6/lib/python3.6/site-packages/scipy/linalg/basic.py:1226: RuntimeWarning: internal gelsd driver lwork query error, required iwork dimension not returned. This is likely the result of LAPACK bug 0038, fixed in LAPACK 3.2.2 (released July 21, 2010). Falling back to 'gelss' driver.\n",
      "  warnings.warn(mesg, RuntimeWarning)\n"
     ]
    }
   ],
   "source": [
    "regr = linear_model.LinearRegression()\n",
    "x_train = x.values.reshape((-1, 1))\n",
    "y_train = y.values.reshape((-1, 1))\n",
    "\n",
    "regr.fit(x_train, y_train)\n",
    "\n",
    "xnew1  = [2020]\n",
    "xnew1 = np.reshape(xnew1, (-1, 1))\n",
    "ynew1 = regr.predict(xnew1)\n",
    "\n",
    "print(\"Using sklearn linear model - the average vehicle manufacture year: \",ynew1)"
   ]
  },
  {
   "cell_type": "markdown",
   "metadata": {},
   "source": [
    "#### Combining both the Vermont and Montana datasets, find the hours when the most and least number of traffic stops occurred. What is the difference in the total number of stops that occurred in these two hours? Hours range from 00 to 23. Round stop times down to compute this difference."
   ]
  },
  {
   "cell_type": "code",
   "execution_count": 22,
   "metadata": {},
   "outputs": [],
   "source": [
    "# Merge two datasets\n",
    "df_mt_merge = pd.read_csv(\"MT-clean.csv\", low_memory=False)\n",
    "df_merged = pd.merge(df_mt_merge, df_vt, how='outer', suffixes=('_mt', '_vt'))"
   ]
  },
  {
   "cell_type": "code",
   "execution_count": 23,
   "metadata": {},
   "outputs": [
    {
     "name": "stdout",
     "output_type": "stream",
     "text": [
      "Difference in the total number of stops that occurred in these two hours:  95344\n"
     ]
    }
   ],
   "source": [
    "df_merged['stop_hour'] = df_merged.stop_time.str[:2]\n",
    "stop_hours = df_merged['stop_hour'].value_counts()\n",
    "print(\"Difference in the total number of stops that occurred in these two hours: \",\n",
    "      format(stop_hours[0] - stop_hours[len(stop_hours)-1], '.10g'))"
   ]
  },
  {
   "cell_type": "markdown",
   "metadata": {},
   "source": [
    "#### We can use the traffic stop locations to estimate the areas of the counties in Montana. Represent each county as an ellipse with semi-axes given by a single standard deviation of the longitude and latitude of stops within that county. What is the area, in square kilometers, of the largest county measured in this manner? Please ignore unrealistic latitude and longitude coordinates"
   ]
  },
  {
   "cell_type": "code",
   "execution_count": 24,
   "metadata": {},
   "outputs": [],
   "source": [
    "df_area = df_mt[['id','county_name','lat','lon']]\n",
    "\n",
    "# id             825118\n",
    "# county_name    821062\n",
    "# lat            824682\n",
    "# lon            824682\n",
    "# Filling the county name would cost unnecessary computational power. \n",
    "# by deleting NaN records in county column, we are loosing 0.4% Data\n",
    "\n",
    "county_col= df_area['county_name']\n",
    "is_county_col_null = county_col.isnull()\n",
    "county_col_null_true = county_col[is_county_col_null]\n",
    "df_area = df_area.drop(county_col_null_true.index)"
   ]
  },
  {
   "cell_type": "code",
   "execution_count": 25,
   "metadata": {},
   "outputs": [],
   "source": [
    "df_area_std = df_area.groupby('county_name')['lat','lon'].std().reset_index()"
   ]
  },
  {
   "cell_type": "code",
   "execution_count": 26,
   "metadata": {},
   "outputs": [],
   "source": [
    "import math\n",
    "# Considering each lan degree equals to 111.321 kilometers\n",
    "lat_in_km = (df_area_std['lat'] * math.pi / 180)* 111.321\n",
    "lon_in_km = (df_area_std['lon'] * math.pi / 180) * 111.321\n",
    "df_area_std['area'] = math.pi * lat_in_km * lon_in_km"
   ]
  },
  {
   "cell_type": "code",
   "execution_count": 27,
   "metadata": {},
   "outputs": [
    {
     "name": "stdout",
     "output_type": "stream",
     "text": [
      "Area of the largest county:  301.448958\n"
     ]
    }
   ],
   "source": [
    "print(\"Area of the largest county: \",format(df_area_std['area'].max(), '.10g'))"
   ]
  }
 ],
 "metadata": {
  "kernelspec": {
   "display_name": "Python 3",
   "language": "python",
   "name": "python3"
  },
  "language_info": {
   "codemirror_mode": {
    "name": "ipython",
    "version": 3
   },
   "file_extension": ".py",
   "mimetype": "text/x-python",
   "name": "python",
   "nbconvert_exporter": "python",
   "pygments_lexer": "ipython3",
   "version": "3.6.4"
  }
 },
 "nbformat": 4,
 "nbformat_minor": 2
}
