{
 "cells": [
  {
   "cell_type": "code",
   "execution_count": 1,
   "metadata": {},
   "outputs": [],
   "source": [
    "import pandas as pd\n",
    "import numpy as np\n",
    "import scipy as sc\n",
    "pd.options.display.float_format = '{:,.10f}'.format"
   ]
  },
  {
   "cell_type": "code",
   "execution_count": 2,
   "metadata": {},
   "outputs": [],
   "source": [
    "# Read input CSV file - Montana\n",
    "df_mt = pd.read_csv(\"MT-clean.csv\", low_memory=False)\n",
    "#df_mt.head()"
   ]
  },
  {
   "cell_type": "code",
   "execution_count": 3,
   "metadata": {},
   "outputs": [],
   "source": [
    "# Read input CSV file - Vermont\n",
    "df_vt = pd.read_csv(\"VT-clean.csv\", low_memory=False)\n",
    "#df_vt.head()"
   ]
  },
  {
   "cell_type": "markdown",
   "metadata": {},
   "source": [
    "**What proportion of traffic stops in Montana involved male drivers? In other words, divide the number of traffic stops involving male drivers by the total number of stops.**"
   ]
  },
  {
   "cell_type": "code",
   "execution_count": 4,
   "metadata": {},
   "outputs": [
    {
     "data": {
      "text/plain": [
       "0.6750723334210103"
      ]
     },
     "execution_count": 4,
     "metadata": {},
     "output_type": "execute_result"
    }
   ],
   "source": [
    "male_prop, female_prop = df_mt.driver_gender.value_counts()/df_mt.driver_gender.count()\n",
    "male_prop"
   ]
  },
  {
   "cell_type": "markdown",
   "metadata": {},
   "source": [
    "**How many more times likely are you to be arrested in Montana during a traffic stop if you have out of state plates?**"
   ]
  },
  {
   "cell_type": "code",
   "execution_count": 21,
   "metadata": {},
   "outputs": [
    {
     "data": {
      "text/plain": [
       "0.3301690397517421"
      ]
     },
     "execution_count": 21,
     "metadata": {},
     "output_type": "execute_result"
    }
   ],
   "source": [
    "out_of_state_false, out_of_state_true = df_mt.out_of_state.value_counts()/df_mt.out_of_state.count()\n",
    "out_of_state_true/out_of_state_false"
   ]
  },
  {
   "cell_type": "code",
   "execution_count": 6,
   "metadata": {},
   "outputs": [],
   "source": [
    "m = df_mt.is_arrested.value_counts()/df_mt.is_arrested.count()"
   ]
  },
  {
   "cell_type": "code",
   "execution_count": 7,
   "metadata": {},
   "outputs": [],
   "source": [
    "v = df_vt.is_arrested.value_counts()/df_vt.is_arrested.count()"
   ]
  },
  {
   "cell_type": "markdown",
   "metadata": {},
   "source": [
    "**Perform a (χ2) test to determine whether the proportions of arrests in these two populations are equal. What is the value of the test statistic?**\n",
    "\n",
    "|  | Arrested  | Not Arrested |\n",
    "|------|------|------|\n",
    "|   MT  | 17195|   807923  |\n",
    "|   VT  | 3331|   279954  |\n"
   ]
  },
  {
   "cell_type": "code",
   "execution_count": 8,
   "metadata": {},
   "outputs": [
    {
     "name": "stdout",
     "output_type": "stream",
     "text": [
      "0.007096595562480736\n"
     ]
    }
   ],
   "source": [
    "chi_squared_stat = (((m-v)**2)/v).sum()\n",
    "\n",
    "print(chi_squared_stat)"
   ]
  },
  {
   "cell_type": "code",
   "execution_count": 9,
   "metadata": {},
   "outputs": [],
   "source": [
    "from scipy.stats import chisquare\n",
    "observed = np.array(m)\n",
    "expected = np.array(v)\n",
    "chisquare_value, pvalue = chisquare(observed, expected)"
   ]
  },
  {
   "cell_type": "code",
   "execution_count": 10,
   "metadata": {},
   "outputs": [
    {
     "data": {
      "text/plain": [
       "0.007096595562480736"
      ]
     },
     "execution_count": 10,
     "metadata": {},
     "output_type": "execute_result"
    }
   ],
   "source": [
    "chisquare_value"
   ]
  },
  {
   "cell_type": "markdown",
   "metadata": {},
   "source": [
    "** What proportion of traffic stops in Montana resulted in speeding violations? In other words, find the number of violations that include \"Speeding\" in the violation description and divide that number by the total number of stops (or rows in the Montana dataset).**"
   ]
  },
  {
   "cell_type": "code",
   "execution_count": 11,
   "metadata": {},
   "outputs": [
    {
     "data": {
      "text/plain": [
       "0.408438327606373"
      ]
     },
     "execution_count": 11,
     "metadata": {},
     "output_type": "execute_result"
    }
   ],
   "source": [
    "df_mt.violation.value_counts()['Speeding']/df_mt.violation.count()"
   ]
  },
  {
   "cell_type": "markdown",
   "metadata": {},
   "source": [
    "**How much more likely does a traffic stop in Montana result in a DUI than a traffic stop in Vermont? To compute the proportion of traffic stops that result in a DUI, divide the number of stops with \"DUI\" in the violation description by the total number of stops.**"
   ]
  },
  {
   "cell_type": "code",
   "execution_count": 26,
   "metadata": {},
   "outputs": [],
   "source": [
    "m_DUI = (df_mt['violation'].str.contains(\"DUI\") == True).sum()/df_mt.violation.count()"
   ]
  },
  {
   "cell_type": "code",
   "execution_count": 27,
   "metadata": {},
   "outputs": [],
   "source": [
    "v_DUI = (df_vt['violation'].str.contains(\"DUI\") == True).sum()/df_vt.violation.count()"
   ]
  },
  {
   "cell_type": "code",
   "execution_count": 28,
   "metadata": {},
   "outputs": [
    {
     "data": {
      "text/plain": [
       "4.054943765214862"
      ]
     },
     "execution_count": 28,
     "metadata": {},
     "output_type": "execute_result"
    }
   ],
   "source": [
    "m_DUI/v_DUI"
   ]
  },
  {
   "cell_type": "markdown",
   "metadata": {},
   "source": [
    "**What is the extrapolated, average manufacture year of vehicles involved in traffic stops in Montana in 2020? To answer this question, calculate the average vehicle manufacture year for each year's traffic stops. Extrapolate using a linear regression.**"
   ]
  },
  {
   "cell_type": "code",
   "execution_count": 3,
   "metadata": {},
   "outputs": [],
   "source": [
    "# Assign previous value to NaN in column stop_date\n",
    "stop_date_col= df_mt['stop_date']\n",
    "is_stop_date_null = stop_date_col.isnull()\n",
    "stop_date_null_true = stop_date_col[is_stop_date_null]\n",
    "a = int(stop_date_null_true.index[0])\n",
    "df_mt['stop_date'].fillna(df_mt['stop_date'][a-1], inplace = True)\n",
    "#df_mt['stop_date']\n",
    "#df_mt['stop_date'].fillna(method='bfill', inplace = True)\n",
    "#pd.isnull(df_mt['stop_date'])"
   ]
  },
  {
   "cell_type": "code",
   "execution_count": 4,
   "metadata": {},
   "outputs": [],
   "source": [
    "df_mt[\"stop_date\"] = pd.to_datetime(df_mt[\"stop_date\"])\n",
    "df_mt[\"stop_year\"] = df_mt['stop_date'].dt.year\n",
    "# Remove all rows which contains vehicle year as UNK, NON and NaN"
   ]
  },
  {
   "cell_type": "code",
   "execution_count": 5,
   "metadata": {},
   "outputs": [],
   "source": [
    "# pd.isnull(df_mt['vehicle_year'])\n",
    "# vehicle_year_col= df_mt['vehicle_year']\n",
    "# is_vehicle_year_null = vehicle_year_col.isnull()\n",
    "# vehicle_year_null_true = vehicle_year_col[is_vehicle_year_null]\n",
    "# df_mt['vehicle_year'] = df_mt['vehicle_year'].astype(str)\n",
    "# df_mt['vehicle_year'] = df_mt['vehicle_year'].astype(\"float64\")\n",
    "# df_mt['vehicle_year'] = df_mt['vehicle_year'].astype(\"int32\")\n",
    "# df_mt_rm = df_mt.drop()\n",
    "# df_mt['vehicle_year'] == 'UNK'\n",
    "\n",
    "# Remove all string values in vehicle year column\n",
    "df_mt['vehicle_year'].fillna(0, inplace = True)\n",
    "a = df_mt['vehicle_year'].isin(['UNK','NON-','0'])\n",
    "b = df_mt[a]\n",
    "c = b.index\n",
    "df_mt_rm = df_mt.drop(c)"
   ]
  },
  {
   "cell_type": "code",
   "execution_count": 6,
   "metadata": {},
   "outputs": [],
   "source": [
    "# Groupby stopyear and calculate mean vehicle year\n",
    "df_mt_rm['vehicle_year'] = df_mt_rm['vehicle_year'].astype(int)\n",
    "ab = df_mt_rm.groupby('stop_year')['vehicle_year'].mean().reset_index()"
   ]
  },
  {
   "cell_type": "code",
   "execution_count": 7,
   "metadata": {},
   "outputs": [
    {
     "data": {
      "text/html": [
       "<div>\n",
       "<style scoped>\n",
       "    .dataframe tbody tr th:only-of-type {\n",
       "        vertical-align: middle;\n",
       "    }\n",
       "\n",
       "    .dataframe tbody tr th {\n",
       "        vertical-align: top;\n",
       "    }\n",
       "\n",
       "    .dataframe thead th {\n",
       "        text-align: right;\n",
       "    }\n",
       "</style>\n",
       "<table border=\"1\" class=\"dataframe\">\n",
       "  <thead>\n",
       "    <tr style=\"text-align: right;\">\n",
       "      <th></th>\n",
       "      <th>stop_year</th>\n",
       "      <th>vehicle_year</th>\n",
       "    </tr>\n",
       "  </thead>\n",
       "  <tbody>\n",
       "    <tr>\n",
       "      <th>0</th>\n",
       "      <td>2009</td>\n",
       "      <td>1,983.1550787615</td>\n",
       "    </tr>\n",
       "    <tr>\n",
       "      <th>1</th>\n",
       "      <td>2010</td>\n",
       "      <td>1,983.2001883861</td>\n",
       "    </tr>\n",
       "    <tr>\n",
       "      <th>2</th>\n",
       "      <td>2011</td>\n",
       "      <td>1,987.0729979892</td>\n",
       "    </tr>\n",
       "    <tr>\n",
       "      <th>3</th>\n",
       "      <td>2012</td>\n",
       "      <td>1,983.3263680237</td>\n",
       "    </tr>\n",
       "    <tr>\n",
       "      <th>4</th>\n",
       "      <td>2013</td>\n",
       "      <td>1,988.9894216960</td>\n",
       "    </tr>\n",
       "    <tr>\n",
       "      <th>5</th>\n",
       "      <td>2014</td>\n",
       "      <td>1,991.2585407694</td>\n",
       "    </tr>\n",
       "    <tr>\n",
       "      <th>6</th>\n",
       "      <td>2015</td>\n",
       "      <td>1,987.5638986611</td>\n",
       "    </tr>\n",
       "    <tr>\n",
       "      <th>7</th>\n",
       "      <td>2016</td>\n",
       "      <td>1,993.9636847115</td>\n",
       "    </tr>\n",
       "  </tbody>\n",
       "</table>\n",
       "</div>"
      ],
      "text/plain": [
       "   stop_year     vehicle_year\n",
       "0       2009 1,983.1550787615\n",
       "1       2010 1,983.2001883861\n",
       "2       2011 1,987.0729979892\n",
       "3       2012 1,983.3263680237\n",
       "4       2013 1,988.9894216960\n",
       "5       2014 1,991.2585407694\n",
       "6       2015 1,987.5638986611\n",
       "7       2016 1,993.9636847115"
      ]
     },
     "execution_count": 7,
     "metadata": {},
     "output_type": "execute_result"
    }
   ],
   "source": [
    "ab"
   ]
  },
  {
   "cell_type": "code",
   "execution_count": 8,
   "metadata": {},
   "outputs": [],
   "source": [
    "import matplotlib.pyplot as plt\n",
    "from scipy import interpolate\n",
    "x = ab['stop_year']\n",
    "y = ab['vehicle_year']\n",
    "f = interpolate.interp1d(x, y,kind='linear', fill_value='extrapolate', bounds_error=False)"
   ]
  },
  {
   "cell_type": "code",
   "execution_count": 9,
   "metadata": {},
   "outputs": [
    {
     "data": {
      "image/png": "[encoded data removed]",
      "text/plain": [
       "<Figure size 432x288 with 1 Axes>"
      ]
     },
     "metadata": {},
     "output_type": "display_data"
    }
   ],
   "source": [
    "xnew = int(2020)\n",
    "ynew = float(f(xnew))\n",
    "plt.plot(x, y, 'o', xnew, ynew, '-')\n",
    "plt.show()"
   ]
  },
  {
   "cell_type": "code",
   "execution_count": 10,
   "metadata": {},
   "outputs": [],
   "source": [
    "from scipy import stats\n",
    "slope, intercept, r_value, p_value, std_err = stats.linregress(x,y)"
   ]
  },
  {
   "cell_type": "code",
   "execution_count": 11,
   "metadata": {},
   "outputs": [],
   "source": [
    "yn = 2020*slope + intercept"
   ]
  },
  {
   "cell_type": "code",
   "execution_count": 12,
   "metadata": {},
   "outputs": [
    {
     "data": {
      "text/plain": [
       "1997.6464933602963"
      ]
     },
     "execution_count": 12,
     "metadata": {},
     "output_type": "execute_result"
    }
   ],
   "source": [
    "yn"
   ]
  },
  {
   "cell_type": "code",
   "execution_count": 13,
   "metadata": {},
   "outputs": [
    {
     "data": {
      "text/plain": [
       "0.008991502690796908"
      ]
     },
     "execution_count": 13,
     "metadata": {},
     "output_type": "execute_result"
    }
   ],
   "source": [
    "p_value"
   ]
  },
  {
   "cell_type": "code",
   "execution_count": 48,
   "metadata": {},
   "outputs": [
    {
     "name": "stdout",
     "output_type": "stream",
     "text": [
      "[[1997.64649336]]\n"
     ]
    }
   ],
   "source": [
    "from sklearn import linear_model\n",
    "\n",
    "regr = linear_model.LinearRegression()\n",
    "x_train = x.values.reshape((-1, 1))\n",
    "y_train = y.values.reshape((-1, 1))\n",
    "\n",
    "regr.fit(x_train, y_train)\n",
    "\n",
    "xnew1  = [2020]\n",
    "xnew1 = np.reshape(xnew1, (-1, 1))\n",
    "ynew1 = regr.predict(xnew1)\n",
    "\n",
    "print(ynew1)"
   ]
  },
  {
   "cell_type": "code",
   "execution_count": 8,
   "metadata": {},
   "outputs": [],
   "source": [
    "df_merged = pd.merge(df_mt, df_vt, how='outer', suffixes=('_mt', '_vt'))"
   ]
  },
  {
   "cell_type": "code",
   "execution_count": 19,
   "metadata": {},
   "outputs": [],
   "source": [
    "df_merged['stop_hour'] = df_merged.stop_time.str[:2]"
   ]
  },
  {
   "cell_type": "code",
   "execution_count": 24,
   "metadata": {},
   "outputs": [
    {
     "data": {
      "text/plain": [
       "15    95891\n",
       "16    86886\n",
       "18    82430\n",
       "14    82129\n",
       "17    81437\n",
       "08    62488\n",
       "09    62233\n",
       "10    61946\n",
       "13    59281\n",
       "19    57980\n",
       "11    51008\n",
       "20    47244\n",
       "21    45891\n",
       "22    44387\n",
       "12    44024\n",
       "07    41550\n",
       "23    38599\n",
       "00    25490\n",
       "01    16856\n",
       "06     8561\n",
       "02     8399\n",
       "05     1710\n",
       "03     1425\n",
       "04      547\n",
       "Name: stop_hour, dtype: int64"
      ]
     },
     "execution_count": 24,
     "metadata": {},
     "output_type": "execute_result"
    }
   ],
   "source": [
    "df_merged['stop_hour'].value_counts()"
   ]
  },
  {
   "cell_type": "code",
   "execution_count": 25,
   "metadata": {},
   "outputs": [
    {
     "data": {
      "text/plain": [
       "95344"
      ]
     },
     "execution_count": 25,
     "metadata": {},
     "output_type": "execute_result"
    }
   ],
   "source": [
    "sh[0] - sh[len(sh)-1]"
   ]
  },
  {
   "cell_type": "code",
   "execution_count": 26,
   "metadata": {},
   "outputs": [
    {
     "data": {
      "text/plain": [
       "95344"
      ]
     },
     "execution_count": 26,
     "metadata": {},
     "output_type": "execute_result"
    }
   ],
   "source": [
    "95891-547"
   ]
  },
  {
   "cell_type": "code",
   "execution_count": 32,
   "metadata": {},
   "outputs": [],
   "source": [
    "df_area = df_mt[['id','county_name','lat','lon']]"
   ]
  },
  {
   "cell_type": "code",
   "execution_count": 50,
   "metadata": {},
   "outputs": [],
   "source": [
    "# id             825118\n",
    "# county_name    821062\n",
    "# lat            824682\n",
    "# lon            824682\n",
    "# Filling the county name would cost unnecessary computational power. \n",
    "# by deleting NaN records in county column, we are loosing 0.4% Data\n",
    "county_col= df_area['county_name']\n",
    "is_county_col_null = county_col.isnull()\n",
    "county_col_null_true = county_col[is_county_col_null]\n",
    "# county_col_null_true.index\n",
    "df_area = df_area.drop(county_col_null_true.index)"
   ]
  },
  {
   "cell_type": "code",
   "execution_count": 55,
   "metadata": {},
   "outputs": [],
   "source": [
    "df_area_std = df_area.groupby('county_name')['lat','lon'].std().reset_index()"
   ]
  },
  {
   "cell_type": "code",
   "execution_count": 68,
   "metadata": {},
   "outputs": [],
   "source": [
    "import math\n",
    "# Considering each lan degree equals to 111.321 kilometers\n",
    "df_area_std['area'] = math.pi * (df_area_std['lat'] * math.pi / 180)* 111.321 * (df_area_std['lon'] * math.pi / 180) * 111.321"
   ]
  },
  {
   "cell_type": "code",
   "execution_count": 71,
   "metadata": {},
   "outputs": [
    {
     "data": {
      "text/plain": [
       "301.44895798935613"
      ]
     },
     "execution_count": 71,
     "metadata": {},
     "output_type": "execute_result"
    }
   ],
   "source": [
    "df_area_std['area'].max()"
   ]
  }
 ],
 "metadata": {
  "kernelspec": {
   "display_name": "Python 3",
   "language": "python",
   "name": "python3"
  },
  "language_info": {
   "codemirror_mode": {
    "name": "ipython",
    "version": 3
   },
   "file_extension": ".py",
   "mimetype": "text/x-python",
   "name": "python",
   "nbconvert_exporter": "python",
   "pygments_lexer": "ipython3",
   "version": "3.6.4"
  }
 },
 "nbformat": 4,
 "nbformat_minor": 2
}
